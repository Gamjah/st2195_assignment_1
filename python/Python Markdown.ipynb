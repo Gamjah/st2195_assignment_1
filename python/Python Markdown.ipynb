{
 "cells": [
  {
   "cell_type": "markdown",
   "id": "88853855",
   "metadata": {},
   "source": [
    "# Python Script\n",
    "\n",
    "For the Python script I wrote: \n",
    "\n",
    "\n",
    "```python\n",
    "for i in range(1,11):\n",
    "    print(i)\n",
    "```\n",
    "\n",
    "This creates a for function that goes through every integer from 0 to 10.\n",
    "We follow up by printing the content of the variable i as we go through the for function."
   ]
  }
 ],
 "metadata": {
  "kernelspec": {
   "display_name": "Python 3 (ipykernel)",
   "language": "python",
   "name": "python3"
  },
  "language_info": {
   "codemirror_mode": {
    "name": "ipython",
    "version": 3
   },
   "file_extension": ".py",
   "mimetype": "text/x-python",
   "name": "python",
   "nbconvert_exporter": "python",
   "pygments_lexer": "ipython3",
   "version": "3.11.5"
  }
 },
 "nbformat": 4,
 "nbformat_minor": 5
}
